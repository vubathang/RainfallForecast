{
 "cells": [
  {
   "cell_type": "markdown",
   "metadata": {},
   "source": [
    "#### <center><strong style=\"color:#363062\">Rainfall Forecast</strong></center>"
   ]
  },
  {
   "cell_type": "markdown",
   "metadata": {},
   "source": [
    "##### <strong style=\"color:#ff9717\"><em>Tiền xử lý dữ liệu</em></strong>"
   ]
  },
  {
   "cell_type": "code",
   "execution_count": null,
   "metadata": {},
   "outputs": [],
   "source": [
    "# Import library\n",
    "\n",
    "import pandas as pd\n",
    "import matplotlib.pyplot as plt "
   ]
  },
  {
   "cell_type": "code",
   "execution_count": null,
   "metadata": {},
   "outputs": [],
   "source": [
    "# Read data\n",
    "\n",
    "date_col = 'Date'\n",
    "rainfall_col = 'RF_LeThuy'\n",
    "\n",
    "df = pd.read_csv('data.csv')\n",
    "df = pd.DataFrame({ 'Date': df[date_col], 'Rainfall': df[rainfall_col] })"
   ]
  },
  {
   "cell_type": "code",
   "execution_count": null,
   "metadata": {},
   "outputs": [],
   "source": [
    "# Set the correct data type\n",
    "\n",
    "df['Date'] = pd.to_datetime(df['Date'], format='%m/%d/%Y', errors='coerce')\n",
    "df['Rainfall'] = pd.to_numeric(df['Rainfall'], errors='coerce')"
   ]
  },
  {
   "cell_type": "code",
   "execution_count": null,
   "metadata": {},
   "outputs": [],
   "source": [
    "# Display missing value\n",
    "\n",
    "for i in range(len(df.columns)):\n",
    "  missing_data = df[df.columns[i]].isna().sum()\n",
    "  perc = missing_data / len(df) * 100\n",
    "  print(f'> Columns {i}[{df.columns[i]}][{df[df.columns[i]].dtypes}]' + \n",
    "        f' missing entries: {missing_data}, percentage {perc}%')"
   ]
  },
  {
   "cell_type": "code",
   "execution_count": null,
   "metadata": {},
   "outputs": [],
   "source": [
    "# Replace 'x' = mode_value\n",
    "\n",
    "mode_value = df['Rainfall'].mode()[0]\n",
    "df['Rainfall'].fillna(mode_value, inplace=True)"
   ]
  },
  {
   "cell_type": "code",
   "execution_count": null,
   "metadata": {},
   "outputs": [],
   "source": [
    "df['Month'] = df['Date'].dt.month\n",
    "monthly_avg = df.groupby('Month')['Rainfall'].mean()\n",
    "\n",
    "# Show chart\n",
    "plt.figure(figsize=(10, 6))\n",
    "bars = plt.bar(monthly_avg.index, monthly_avg.values)\n",
    "plt.xlabel('Month')\n",
    "plt.ylabel('Average rainfall')\n",
    "plt.title('Average rainfall chart by month')\n",
    "\n",
    "for bar in bars:\n",
    "    height = bar.get_height()\n",
    "    plt.annotate(f'{height:.2f}', xy=(bar.get_x() + bar.get_width() / 2, height),\n",
    "                 xytext=(0, 3), textcoords='offset points', ha='center', va='bottom')\n",
    "\n",
    "plt.xticks(range(1, 13))\n",
    "plt.show()"
   ]
  },
  {
   "cell_type": "code",
   "execution_count": null,
   "metadata": {},
   "outputs": [],
   "source": [
    "df"
   ]
  },
  {
   "cell_type": "code",
   "execution_count": null,
   "metadata": {},
   "outputs": [],
   "source": [
    "# Split data from month\n",
    "\n",
    "data = df[df['Month'].between(8, 12)].copy()\n",
    "data.drop(columns=['Date', 'Month'], axis=1, inplace=True)"
   ]
  },
  {
   "cell_type": "code",
   "execution_count": null,
   "metadata": {},
   "outputs": [],
   "source": [
    "# Categorize the data into 4 levels\n",
    "\n",
    "def CategorizeRainFall(x):\n",
    "  if x == 0: return 0\n",
    "  elif x <= 15: return 1\n",
    "  elif x <= 50: return 2\n",
    "  elif x <= 100: return 3\n",
    "  else : return 4\n",
    "\n",
    "data['Rainfall'] = data['Rainfall'].apply(CategorizeRainFall)"
   ]
  },
  {
   "cell_type": "code",
   "execution_count": null,
   "metadata": {},
   "outputs": [],
   "source": [
    "from sklearn.model_selection import train_test_split\n",
    "from sklearn.svm import SVC\n",
    "from sklearn.metrics import accuracy_score, mean_squared_error, classification_report\n",
    "\n",
    "def ScoreSVM(X, y):\n",
    "  SVM = SVC(kernel = 'sigmoid')\n",
    "  X_train, X_test, y_train, y_test = train_test_split(X, y, test_size = 0.2, random_state=42)\n",
    "  SVM.fit(X_train, y_train)\n",
    "  y_pred = SVM.predict(X_test)\n",
    "  # print(classification_report(y_test, y_pred, zero_division=1))\n",
    "  return accuracy_score(y_test, y_pred)"
   ]
  },
  {
   "cell_type": "code",
   "execution_count": null,
   "metadata": {},
   "outputs": [],
   "source": [
    "def ProcessData(data, days):\n",
    "  df = data.copy() \n",
    "  for i in range(days + 1):\n",
    "    df[f'{i} Days Before'] = df['Rainfall'].shift(-i)\n",
    "  df = df[:-days]\n",
    "  X = df.drop(columns = ['Rainfall', '0 Days Before'], axis = 1)\n",
    "  y = df['Rainfall']\n",
    "  return X, y"
   ]
  },
  {
   "cell_type": "code",
   "execution_count": null,
   "metadata": {},
   "outputs": [],
   "source": [
    "acc = []\n",
    "\n",
    "for i in range(2, 60):\n",
    "  X, y = ProcessData(data, i)\n",
    "  acc.append(ScoreSVM(X, y))\n",
    "\n",
    "print(acc)\n",
    "print(max(acc))\n"
   ]
  }
 ],
 "metadata": {
  "kernelspec": {
   "display_name": "MachineLearning",
   "language": "python",
   "name": "python3"
  },
  "language_info": {
   "codemirror_mode": {
    "name": "ipython",
    "version": 3
   },
   "file_extension": ".py",
   "mimetype": "text/x-python",
   "name": "python",
   "nbconvert_exporter": "python",
   "pygments_lexer": "ipython3",
   "version": "3.11.5"
  }
 },
 "nbformat": 4,
 "nbformat_minor": 2
}
