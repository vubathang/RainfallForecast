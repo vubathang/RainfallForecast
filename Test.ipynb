{
 "cells": [
  {
   "cell_type": "markdown",
   "metadata": {},
   "source": [
    "#### **<font color='green'>Import Lib</font>**"
   ]
  },
  {
   "cell_type": "code",
   "execution_count": 196,
   "metadata": {},
   "outputs": [],
   "source": [
    "import pandas as pd\n",
    "import matplotlib.pyplot as plt\n",
    "import numpy as np"
   ]
  },
  {
   "cell_type": "markdown",
   "metadata": {},
   "source": [
    "<font color='green'>**Import data**</font>"
   ]
  },
  {
   "cell_type": "code",
   "execution_count": 197,
   "metadata": {},
   "outputs": [],
   "source": [
    "df = pd.read_csv('data.csv')\n",
    "df = df[[\"Date\", \"RF_LeThuy\"]]"
   ]
  },
  {
   "cell_type": "markdown",
   "metadata": {},
   "source": [
    "#### **Pro-precessing**"
   ]
  },
  {
   "cell_type": "code",
   "execution_count": 198,
   "metadata": {},
   "outputs": [],
   "source": [
    "# Replace 'x' = mode_value\n",
    "mode_value = df.iloc[:, 1].mode()[0]\n",
    "df.iloc[:, 1] = df.iloc[:, 1].replace('x', mode_value)\n",
    "df['Month'] = df['Date'].str.split('/').str.get(0)\n"
   ]
  },
  {
   "cell_type": "code",
   "execution_count": 199,
   "metadata": {},
   "outputs": [],
   "source": [
    "# Del col Date\n",
    "df = df.drop('Date', axis=1)"
   ]
  },
  {
   "cell_type": "code",
   "execution_count": 200,
   "metadata": {},
   "outputs": [
    {
     "name": "stdout",
     "output_type": "stream",
     "text": [
      "<class 'pandas.core.frame.DataFrame'>\n",
      "RangeIndex: 16071 entries, 0 to 16070\n",
      "Data columns (total 2 columns):\n",
      " #   Column     Non-Null Count  Dtype  \n",
      "---  ------     --------------  -----  \n",
      " 0   RF_LeThuy  16071 non-null  float64\n",
      " 1   Month      16071 non-null  int64  \n",
      "dtypes: float64(1), int64(1)\n",
      "memory usage: 251.2 KB\n"
     ]
    }
   ],
   "source": [
    "df = df.apply(pd.to_numeric, errors='coerce')\n",
    "# df = df.astype(float)\n",
    "df.info()"
   ]
  },
  {
   "cell_type": "markdown",
   "metadata": {},
   "source": [
    "#### **Split Data to 2 part of year**"
   ]
  },
  {
   "cell_type": "code",
   "execution_count": 201,
   "metadata": {},
   "outputs": [],
   "source": [
    "dt1 = df[df['Month'].between(1, 8) | df['Month'].between(12, 12)]\n",
    "dt2 = df[df['Month'].between(9, 11)]"
   ]
  },
  {
   "cell_type": "code",
   "execution_count": 202,
   "metadata": {},
   "outputs": [],
   "source": [
    "dt1 = dt1.drop('Month', axis=1)\n",
    "dt2 = dt2.drop('Month', axis=1)"
   ]
  },
  {
   "cell_type": "markdown",
   "metadata": {},
   "source": [
    "#### **Implement Linear Regression From Sklearn**"
   ]
  },
  {
   "cell_type": "code",
   "execution_count": 203,
   "metadata": {},
   "outputs": [],
   "source": [
    "from sklearn.linear_model import LinearRegression\n",
    "model_LR = LinearRegression()"
   ]
  },
  {
   "cell_type": "code",
   "execution_count": 204,
   "metadata": {},
   "outputs": [
    {
     "data": {
      "text/html": [
       "<div>\n",
       "<style scoped>\n",
       "    .dataframe tbody tr th:only-of-type {\n",
       "        vertical-align: middle;\n",
       "    }\n",
       "\n",
       "    .dataframe tbody tr th {\n",
       "        vertical-align: top;\n",
       "    }\n",
       "\n",
       "    .dataframe thead th {\n",
       "        text-align: right;\n",
       "    }\n",
       "</style>\n",
       "<table border=\"1\" class=\"dataframe\">\n",
       "  <thead>\n",
       "    <tr style=\"text-align: right;\">\n",
       "      <th></th>\n",
       "      <th>RF_LeThuy</th>\n",
       "    </tr>\n",
       "  </thead>\n",
       "  <tbody>\n",
       "    <tr>\n",
       "      <th>0</th>\n",
       "      <td>0.0</td>\n",
       "    </tr>\n",
       "    <tr>\n",
       "      <th>1</th>\n",
       "      <td>1.5</td>\n",
       "    </tr>\n",
       "    <tr>\n",
       "      <th>2</th>\n",
       "      <td>1.4</td>\n",
       "    </tr>\n",
       "    <tr>\n",
       "      <th>3</th>\n",
       "      <td>4.6</td>\n",
       "    </tr>\n",
       "    <tr>\n",
       "      <th>4</th>\n",
       "      <td>0.3</td>\n",
       "    </tr>\n",
       "    <tr>\n",
       "      <th>...</th>\n",
       "      <td>...</td>\n",
       "    </tr>\n",
       "    <tr>\n",
       "      <th>16066</th>\n",
       "      <td>0.0</td>\n",
       "    </tr>\n",
       "    <tr>\n",
       "      <th>16067</th>\n",
       "      <td>0.0</td>\n",
       "    </tr>\n",
       "    <tr>\n",
       "      <th>16068</th>\n",
       "      <td>0.0</td>\n",
       "    </tr>\n",
       "    <tr>\n",
       "      <th>16069</th>\n",
       "      <td>0.4</td>\n",
       "    </tr>\n",
       "    <tr>\n",
       "      <th>16070</th>\n",
       "      <td>0.0</td>\n",
       "    </tr>\n",
       "  </tbody>\n",
       "</table>\n",
       "<p>12067 rows × 1 columns</p>\n",
       "</div>"
      ],
      "text/plain": [
       "       RF_LeThuy\n",
       "0            0.0\n",
       "1            1.5\n",
       "2            1.4\n",
       "3            4.6\n",
       "4            0.3\n",
       "...          ...\n",
       "16066        0.0\n",
       "16067        0.0\n",
       "16068        0.0\n",
       "16069        0.4\n",
       "16070        0.0\n",
       "\n",
       "[12067 rows x 1 columns]"
      ]
     },
     "execution_count": 204,
     "metadata": {},
     "output_type": "execute_result"
    }
   ],
   "source": [
    "dt1"
   ]
  },
  {
   "cell_type": "code",
   "execution_count": 241,
   "metadata": {},
   "outputs": [
    {
     "name": "stdout",
     "output_type": "stream",
     "text": [
      "Mean Squared Error (MSE): 124.880973511\n",
      "R-squared (R²): 0.061220265\n"
     ]
    },
    {
     "data": {
      "image/png": "[encoded data removed]",
      "text/plain": [
       "<Figure size 640x480 with 1 Axes>"
      ]
     },
     "metadata": {},
     "output_type": "display_data"
    }
   ],
   "source": [
    "from sklearn.model_selection import train_test_split\n",
    "from sklearn.metrics import mean_squared_error, r2_score\n",
    "d = dt1\n",
    "n_days = 12\n",
    "for i in range(n_days):\n",
    "    d[f'Day-{i}'] = d['RF_LeThuy'].shift(-i)\n",
    "d = d.dropna()\n",
    "d = d.drop(columns=['Day-0'])\n",
    "X_first = d.drop('RF_LeThuy', axis=1).astype(float)\n",
    "y_first = d['RF_LeThuy'].astype(float)\n",
    "\n",
    "X_train, X_test, y_train, y_test = train_test_split(X_first, y_first, train_size=0.2)\n",
    "model_LR.fit(X_train, y_train)\n",
    "y_pred = model_LR.predict(X_test)\n",
    "plt.scatter(y_test, y_pred)\n",
    "\n",
    "mse = mean_squared_error(y_test, y_pred)\n",
    "r2 = r2_score(y_test, y_pred)\n",
    "\n",
    "print(f\"Mean Squared Error (MSE): {mse:.9f}\")\n",
    "print(f\"R-squared (R²): {r2:.9f}\")"
   ]
  },
  {
   "cell_type": "code",
   "execution_count": 192,
   "metadata": {},
   "outputs": [],
   "source": [
    "from sklearn.metrics import r2_score, mean_absolute_error, mean_squared_error, accuracy_score\n",
    "\n",
    "def score(df, days):\n",
    "  for i in range(days):\n",
    "    df[f'Day-{i}'] = df['RF_LeThuy'].shift(-i)\n",
    "  df = df.dropna()\n",
    "  df = df.drop(columns=['Day-0'])\n",
    "  X_first = df.drop('RF_LeThuy', axis=1).astype(float)\n",
    "  y_first = df['RF_LeThuy'].astype(float)\n",
    "  X_train, X_test, y_train, y_test = train_test_split(X_first, y_first, train_size=0.2)\n",
    "  model_LR.fit(X_train, y_train)\n",
    "  y_pred = model_LR.predict(X_test)\n",
    "  r2 = r2_score(y_test, y_pred)\n",
    "  mae = mean_absolute_error(y_test, y_pred)\n",
    "  mse = mean_squared_error(y_test, y_pred)\n",
    "  print(f'\\tScore : r2 = {r2}, mae = {mae}, mse = {mse}')"
   ]
  },
  {
   "cell_type": "code",
   "execution_count": 194,
   "metadata": {},
   "outputs": [
    {
     "name": "stdout",
     "output_type": "stream",
     "text": [
      "Số ngày dự đoán trước đó : 2\n",
      "\tScore : r2 = 0.014945571112722544, mae = 20.52932766286259, mse = 1478.7220495044332\n",
      "Số ngày dự đoán trước đó : 3\n",
      "\tScore : r2 = 0.06249182259466546, mae = 19.486071335390513, mse = 1556.1645446726961\n",
      "Số ngày dự đoán trước đó : 4\n",
      "\tScore : r2 = 0.018708001515276296, mae = 20.531442671931956, mse = 1417.6358431264566\n",
      "Số ngày dự đoán trước đó : 5\n",
      "\tScore : r2 = -0.04268752024160327, mae = 20.991021853354322, mse = 1587.1093461502992\n",
      "Số ngày dự đoán trước đó : 6\n",
      "\tScore : r2 = 0.0015247362431318745, mae = 20.758276956341117, mse = 1624.1912492083927\n",
      "Số ngày dự đoán trước đó : 7\n",
      "\tScore : r2 = 0.01114059487286212, mae = 20.085334305065427, mse = 1494.1845799424025\n",
      "Số ngày dự đoán trước đó : 8\n",
      "\tScore : r2 = 0.04769345319972018, mae = 20.60012764840406, mse = 1511.1556686221247\n",
      "Số ngày dự đoán trước đó : 9\n",
      "\tScore : r2 = 0.04902663789506434, mae = 19.789828753392452, mse = 1483.8913628748244\n",
      "Số ngày dự đoán trước đó : 10\n",
      "\tScore : r2 = 0.03759776055186448, mae = 20.370394871665106, mse = 1550.9597844451007\n",
      "Số ngày dự đoán trước đó : 11\n",
      "\tScore : r2 = 0.03418358892912621, mae = 20.26075474234796, mse = 1508.2389846293008\n",
      "Số ngày dự đoán trước đó : 12\n",
      "\tScore : r2 = 0.005626591708410955, mae = 21.245195714511386, mse = 1559.307020355277\n",
      "Số ngày dự đoán trước đó : 13\n",
      "\tScore : r2 = 0.03774053029866242, mae = 20.002461346494833, mse = 1537.5605972708572\n",
      "Số ngày dự đoán trước đó : 14\n",
      "\tScore : r2 = 0.05570705414219135, mae = 18.914299244678336, mse = 1623.314171713438\n",
      "Số ngày dự đoán trước đó : 15\n",
      "\tScore : r2 = 0.0065697592557816265, mae = 20.009994051937138, mse = 1592.8915829208784\n",
      "Số ngày dự đoán trước đó : 16\n",
      "\tScore : r2 = 0.03441928959083329, mae = 20.553605450161946, mse = 1488.5444168988233\n",
      "Số ngày dự đoán trước đó : 17\n",
      "\tScore : r2 = -0.02156936341483351, mae = 21.558332550202756, mse = 1394.981001164006\n",
      "Số ngày dự đoán trước đó : 18\n",
      "\tScore : r2 = 0.016463071110543348, mae = 21.120811512183106, mse = 1367.3628731063825\n",
      "Số ngày dự đoán trước đó : 19\n",
      "\tScore : r2 = 0.01054210582690962, mae = 20.56735791759226, mse = 1663.6355194221803\n",
      "Số ngày dự đoán trước đó : 20\n",
      "\tScore : r2 = 0.06724463016040472, mae = 19.377562966578264, mse = 1568.7934319780943\n",
      "Số ngày dự đoán trước đó : 21\n",
      "\tScore : r2 = 0.036896635929829835, mae = 19.88042163827265, mse = 1657.2683498800704\n",
      "Số ngày dự đoán trước đó : 22\n",
      "\tScore : r2 = 0.04734571695883316, mae = 20.072432236550313, mse = 1530.8780181026207\n",
      "Số ngày dự đoán trước đó : 23\n",
      "\tScore : r2 = 0.030461580645935293, mae = 19.76974465146768, mse = 1590.6544776476571\n",
      "Số ngày dự đoán trước đó : 24\n",
      "\tScore : r2 = 0.008645230128088044, mae = 20.51147383564934, mse = 1481.2473787600554\n",
      "Số ngày dự đoán trước đó : 25\n",
      "\tScore : r2 = 0.07233915877997488, mae = 18.78156491608671, mse = 1573.6155061158277\n",
      "Số ngày dự đoán trước đó : 26\n",
      "\tScore : r2 = 0.007437302279354352, mae = 21.513395704797055, mse = 1501.7204876523424\n",
      "Số ngày dự đoán trước đó : 27\n",
      "\tScore : r2 = 0.005308759309431199, mae = 21.540600376571184, mse = 1496.5277416090644\n",
      "Số ngày dự đoán trước đó : 28\n",
      "\tScore : r2 = 0.0410843720897367, mae = 19.397826072211235, mse = 1650.1290032619954\n",
      "Số ngày dự đoán trước đó : 29\n",
      "\tScore : r2 = 0.016147970657106825, mae = 20.820517989006834, mse = 1547.4345852519646\n",
      "Số ngày dự đoán trước đó : 30\n",
      "\tScore : r2 = 0.045886570745204525, mae = 19.78086278485305, mse = 1535.9609602224969\n",
      "Số ngày dự đoán trước đó : 31\n",
      "\tScore : r2 = 0.037773363665134285, mae = 20.586272743622686, mse = 1541.3460513683299\n",
      "Số ngày dự đoán trước đó : 32\n",
      "\tScore : r2 = 0.04174681356435561, mae = 20.16324287890581, mse = 1459.8929257043123\n",
      "Số ngày dự đoán trước đó : 33\n",
      "\tScore : r2 = 0.051088357334597934, mae = 19.632002382859962, mse = 1561.1350379645853\n",
      "Số ngày dự đoán trước đó : 34\n",
      "\tScore : r2 = -0.04777843147740746, mae = 20.69935714481042, mse = 1553.3473332375838\n",
      "Số ngày dự đoán trước đó : 35\n",
      "\tScore : r2 = 0.0701495459891397, mae = 18.900585662856685, mse = 1528.4528013887186\n",
      "Số ngày dự đoán trước đó : 36\n",
      "\tScore : r2 = -0.008146517692295241, mae = 21.218171630690147, mse = 1460.191165225262\n",
      "Số ngày dự đoán trước đó : 37\n",
      "\tScore : r2 = 0.015079565534047212, mae = 21.40119808630651, mse = 1415.3431339090857\n",
      "Số ngày dự đoán trước đó : 38\n",
      "\tScore : r2 = -0.001310214425520595, mae = 20.931881841639964, mse = 1655.103413200502\n",
      "Số ngày dự đoán trước đó : 39\n",
      "\tScore : r2 = 0.0125995548958876, mae = 21.107434179310165, mse = 1430.5491991768274\n",
      "Số ngày dự đoán trước đó : 40\n",
      "\tScore : r2 = 0.032157121092185936, mae = 21.177426789787734, mse = 1406.1830228949093\n",
      "Số ngày dự đoán trước đó : 41\n",
      "\tScore : r2 = -0.07156863558301496, mae = 21.581287726390585, mse = 1537.2069319648654\n",
      "Số ngày dự đoán trước đó : 42\n",
      "\tScore : r2 = -0.001069029185588155, mae = 20.310334103623266, mse = 1702.0034454471686\n",
      "Số ngày dự đoán trước đó : 43\n",
      "\tScore : r2 = -0.03525702713714196, mae = 21.587329086426504, mse = 1438.9068163986858\n",
      "Số ngày dự đoán trước đó : 44\n",
      "\tScore : r2 = 0.03979653544243633, mae = 19.903782720136704, mse = 1646.0572093143123\n",
      "Số ngày dự đoán trước đó : 45\n",
      "\tScore : r2 = 0.0016285668324921287, mae = 21.343025447085523, mse = 1484.0832715663325\n",
      "Số ngày dự đoán trước đó : 46\n",
      "\tScore : r2 = 0.021795423047254125, mae = 20.55061824313411, mse = 1532.6713930329363\n",
      "Số ngày dự đoán trước đó : 47\n",
      "\tScore : r2 = 0.05889400492967223, mae = 19.752167584530383, mse = 1564.612800831612\n",
      "Số ngày dự đoán trước đó : 48\n",
      "\tScore : r2 = 0.0284689795835239, mae = 20.46388848507301, mse = 1444.1025000412783\n",
      "Số ngày dự đoán trước đó : 49\n",
      "\tScore : r2 = -0.036038561528678015, mae = 21.20576128071862, mse = 1356.870597200547\n",
      "Số ngày dự đoán trước đó : 50\n",
      "\tScore : r2 = -0.02044082084385157, mae = 21.832344267247198, mse = 1448.8180574290934\n",
      "Số ngày dự đoán trước đó : 51\n",
      "\tScore : r2 = -0.0046206302856544035, mae = 21.4624901948941, mse = 1492.8309128777144\n",
      "Số ngày dự đoán trước đó : 52\n",
      "\tScore : r2 = 0.04199449206838202, mae = 19.91222274712123, mse = 1538.629093123055\n",
      "Số ngày dự đoán trước đó : 53\n",
      "\tScore : r2 = 0.029270472272188375, mae = 20.438764530285816, mse = 1572.9270880188008\n",
      "Số ngày dự đoán trước đó : 54\n",
      "\tScore : r2 = 0.037266791886166106, mae = 19.800221752068282, mse = 1567.4320902793188\n",
      "Số ngày dự đoán trước đó : 55\n",
      "\tScore : r2 = 0.03534839902221942, mae = 20.019652214996245, mse = 1570.8062846925109\n",
      "Số ngày dự đoán trước đó : 56\n",
      "\tScore : r2 = 0.04740781185472753, mae = 20.757435704452135, mse = 1479.860134367219\n",
      "Số ngày dự đoán trước đó : 57\n",
      "\tScore : r2 = -0.005612624614274031, mae = 20.80929966611816, mse = 1540.4992129651766\n",
      "Số ngày dự đoán trước đó : 58\n",
      "\tScore : r2 = 0.042184473197800054, mae = 20.416053050649825, mse = 1460.9077600886449\n",
      "Số ngày dự đoán trước đó : 59\n",
      "\tScore : r2 = 0.0171908648308855, mae = 20.663356741381026, mse = 1391.6772772559543\n",
      "Số ngày dự đoán trước đó : 60\n",
      "\tScore : r2 = 0.028928087497923194, mae = 20.358754166461473, mse = 1524.826915419111\n",
      "Số ngày dự đoán trước đó : 61\n",
      "\tScore : r2 = 0.015555373414473328, mae = 19.773469057308752, mse = 1625.785528859646\n",
      "Số ngày dự đoán trước đó : 62\n",
      "\tScore : r2 = 0.03520167101525595, mae = 20.67725953094391, mse = 1473.823753139023\n",
      "Số ngày dự đoán trước đó : 63\n",
      "\tScore : r2 = 0.059750229052669024, mae = 19.921172772601675, mse = 1529.422026755792\n",
      "Số ngày dự đoán trước đó : 64\n",
      "\tScore : r2 = 0.04332146862197639, mae = 20.60868912977607, mse = 1450.2904180388412\n",
      "Số ngày dự đoán trước đó : 65\n",
      "\tScore : r2 = 0.05320908289127302, mae = 20.060418404369237, mse = 1457.3286164905473\n",
      "Số ngày dự đoán trước đó : 66\n",
      "\tScore : r2 = 0.06732820872478773, mae = 19.770579435457268, mse = 1536.2903076481111\n",
      "Số ngày dự đoán trước đó : 67\n",
      "\tScore : r2 = -0.017248540621391806, mae = 21.549874088912542, mse = 1615.9993148778938\n",
      "Số ngày dự đoán trước đó : 68\n",
      "\tScore : r2 = -0.003488251360806549, mae = 20.59732235821761, mse = 1585.3733487979641\n",
      "Số ngày dự đoán trước đó : 69\n",
      "\tScore : r2 = 0.025116041382156395, mae = 20.641626088812515, mse = 1598.1414633285888\n",
      "Số ngày dự đoán trước đó : 70\n",
      "\tScore : r2 = 0.0008675683012411284, mae = 20.66987454235046, mse = 1558.6895973441658\n",
      "Số ngày dự đoán trước đó : 71\n",
      "\tScore : r2 = -0.038402772246152184, mae = 21.69688570366163, mse = 1675.5575193715054\n",
      "Số ngày dự đoán trước đó : 72\n",
      "\tScore : r2 = 0.0366496302685706, mae = 20.21620251009608, mse = 1530.7708850144857\n",
      "Số ngày dự đoán trước đó : 73\n",
      "\tScore : r2 = -0.009680075148149614, mae = 21.383277807170774, mse = 1622.288863557402\n",
      "Số ngày dự đoán trước đó : 74\n",
      "\tScore : r2 = 0.024447710206767836, mae = 20.77219866378857, mse = 1560.8411115291879\n",
      "Số ngày dự đoán trước đó : 75\n",
      "\tScore : r2 = -0.18875160725312012, mae = 23.056883674589592, mse = 1512.4467497097435\n",
      "Số ngày dự đoán trước đó : 76\n",
      "\tScore : r2 = -0.04041677356798745, mae = 22.3194506288294, mse = 1645.356528340824\n",
      "Số ngày dự đoán trước đó : 77\n",
      "\tScore : r2 = 0.006560042197141236, mae = 21.134523211916676, mse = 1624.509154768029\n",
      "Số ngày dự đoán trước đó : 78\n",
      "\tScore : r2 = 0.011933391138374105, mae = 21.44128160751715, mse = 1464.2150603829705\n",
      "Số ngày dự đoán trước đó : 79\n",
      "\tScore : r2 = -0.013137585184081368, mae = 21.64274364250611, mse = 1597.5851819769086\n",
      "Số ngày dự đoán trước đó : 80\n",
      "\tScore : r2 = -0.03830352042985541, mae = 21.823231716723537, mse = 1589.6258538891395\n",
      "Số ngày dự đoán trước đó : 81\n",
      "\tScore : r2 = 0.01175738224500178, mae = 21.021837530830815, mse = 1564.1461458259107\n",
      "Số ngày dự đoán trước đó : 82\n",
      "\tScore : r2 = -0.01275824215856769, mae = 21.69378959385555, mse = 1639.6944391097015\n",
      "Số ngày dự đoán trước đó : 83\n",
      "\tScore : r2 = -0.025367953852505565, mae = 22.60789072244066, mse = 1573.3823870520387\n",
      "Số ngày dự đoán trước đó : 84\n",
      "\tScore : r2 = 0.0014024030279889965, mae = 20.718612492979005, mse = 1658.8120072473162\n",
      "Số ngày dự đoán trước đó : 85\n",
      "\tScore : r2 = -0.05699763293428961, mae = 22.348021095675357, mse = 1521.3220933300327\n",
      "Số ngày dự đoán trước đó : 86\n",
      "\tScore : r2 = 0.00030487337314888396, mae = 21.215987254085938, mse = 1615.4434661459281\n",
      "Số ngày dự đoán trước đó : 87\n",
      "\tScore : r2 = -0.07057921598640227, mae = 22.13119112172105, mse = 1543.292904083233\n",
      "Số ngày dự đoán trước đó : 88\n",
      "\tScore : r2 = -0.05700890247931345, mae = 22.408987085844785, mse = 1620.3855897871338\n",
      "Số ngày dự đoán trước đó : 89\n",
      "\tScore : r2 = 0.024232986474595486, mae = 20.587719326550268, mse = 1669.7193222696665\n",
      "Số ngày dự đoán trước đó : 90\n",
      "\tScore : r2 = -0.023142885668520075, mae = 21.751895503698186, mse = 1577.8604072732132\n",
      "Số ngày dự đoán trước đó : 91\n",
      "\tScore : r2 = -0.01370566185321187, mae = 22.128276864990116, mse = 1516.353085591233\n",
      "Số ngày dự đoán trước đó : 92\n",
      "\tScore : r2 = -0.05145575432568994, mae = 21.733607714304185, mse = 1647.9963880595044\n",
      "Số ngày dự đoán trước đó : 93\n",
      "\tScore : r2 = 0.012887286212681426, mae = 21.239665605835352, mse = 1610.0491342113946\n",
      "Số ngày dự đoán trước đó : 94\n",
      "\tScore : r2 = -0.007913369403063752, mae = 21.81112250559016, mse = 1561.135116202117\n",
      "Số ngày dự đoán trước đó : 95\n",
      "\tScore : r2 = -0.05731091668354993, mae = 22.344806477369517, mse = 1681.2361093831696\n",
      "Số ngày dự đoán trước đó : 96\n",
      "\tScore : r2 = -0.015290705482551736, mae = 21.482127866310584, mse = 1710.697438831871\n",
      "Số ngày dự đoán trước đó : 97\n",
      "\tScore : r2 = -0.08919619366326859, mae = 23.31540240797208, mse = 1623.4577785752927\n",
      "Số ngày dự đoán trước đó : 98\n",
      "\tScore : r2 = -0.05733628874861685, mae = 22.813729512217062, mse = 1686.272750029345\n",
      "Số ngày dự đoán trước đó : 99\n",
      "\tScore : r2 = -0.07090109356861252, mae = 22.042366953663603, mse = 1662.609961727254\n",
      "Số ngày dự đoán trước đó : 100\n"
     ]
    },
    {
     "name": "stderr",
     "output_type": "stream",
     "text": [
      "C:\\Users\\Admin\\AppData\\Local\\Temp\\ipykernel_2864\\1087839190.py:5: PerformanceWarning: DataFrame is highly fragmented.  This is usually the result of calling `frame.insert` many times, which has poor performance.  Consider joining all columns at once using pd.concat(axis=1) instead. To get a de-fragmented frame, use `newframe = frame.copy()`\n",
      "  df[f'Day-{i}'] = df['RF_LeThuy'].shift(-i)\n",
      "C:\\Users\\Admin\\AppData\\Local\\Temp\\ipykernel_2864\\1087839190.py:5: PerformanceWarning: DataFrame is highly fragmented.  This is usually the result of calling `frame.insert` many times, which has poor performance.  Consider joining all columns at once using pd.concat(axis=1) instead. To get a de-fragmented frame, use `newframe = frame.copy()`\n",
      "  df[f'Day-{i}'] = df['RF_LeThuy'].shift(-i)\n",
      "C:\\Users\\Admin\\AppData\\Local\\Temp\\ipykernel_2864\\1087839190.py:5: PerformanceWarning: DataFrame is highly fragmented.  This is usually the result of calling `frame.insert` many times, which has poor performance.  Consider joining all columns at once using pd.concat(axis=1) instead. To get a de-fragmented frame, use `newframe = frame.copy()`\n",
      "  df[f'Day-{i}'] = df['RF_LeThuy'].shift(-i)\n",
      "C:\\Users\\Admin\\AppData\\Local\\Temp\\ipykernel_2864\\1087839190.py:5: PerformanceWarning: DataFrame is highly fragmented.  This is usually the result of calling `frame.insert` many times, which has poor performance.  Consider joining all columns at once using pd.concat(axis=1) instead. To get a de-fragmented frame, use `newframe = frame.copy()`\n",
      "  df[f'Day-{i}'] = df['RF_LeThuy'].shift(-i)\n"
     ]
    },
    {
     "name": "stdout",
     "output_type": "stream",
     "text": [
      "\tScore : r2 = -0.09334105803851589, mae = 23.459237219912385, mse = 1678.4906410068224\n",
      "Số ngày dự đoán trước đó : 101\n",
      "\tScore : r2 = -0.0313185240848326, mae = 21.679760953462065, mse = 1698.4706758302236\n",
      "Số ngày dự đoán trước đó : 102\n",
      "\tScore : r2 = -0.10628831289589691, mae = 23.22122449830338, mse = 1622.1881262506852\n",
      "Số ngày dự đoán trước đó : 103\n",
      "\tScore : r2 = -0.07250092855588286, mae = 22.686677453397763, mse = 1596.702252742794\n",
      "Số ngày dự đoán trước đó : 104\n",
      "\tScore : r2 = -0.10601544783889172, mae = 23.53627849732988, mse = 1683.1626767181453\n",
      "Số ngày dự đoán trước đó : 105\n",
      "\tScore : r2 = -0.09850288836602217, mae = 23.224381663225085, mse = 1667.7460147089248\n",
      "Số ngày dự đoán trước đó : 106\n",
      "\tScore : r2 = -0.03135489798727087, mae = 22.110901323320025, mse = 1638.6037845211647\n",
      "Số ngày dự đoán trước đó : 107\n"
     ]
    },
    {
     "name": "stderr",
     "output_type": "stream",
     "text": [
      "C:\\Users\\Admin\\AppData\\Local\\Temp\\ipykernel_2864\\1087839190.py:5: PerformanceWarning: DataFrame is highly fragmented.  This is usually the result of calling `frame.insert` many times, which has poor performance.  Consider joining all columns at once using pd.concat(axis=1) instead. To get a de-fragmented frame, use `newframe = frame.copy()`\n",
      "  df[f'Day-{i}'] = df['RF_LeThuy'].shift(-i)\n",
      "C:\\Users\\Admin\\AppData\\Local\\Temp\\ipykernel_2864\\1087839190.py:5: PerformanceWarning: DataFrame is highly fragmented.  This is usually the result of calling `frame.insert` many times, which has poor performance.  Consider joining all columns at once using pd.concat(axis=1) instead. To get a de-fragmented frame, use `newframe = frame.copy()`\n",
      "  df[f'Day-{i}'] = df['RF_LeThuy'].shift(-i)\n",
      "C:\\Users\\Admin\\AppData\\Local\\Temp\\ipykernel_2864\\1087839190.py:5: PerformanceWarning: DataFrame is highly fragmented.  This is usually the result of calling `frame.insert` many times, which has poor performance.  Consider joining all columns at once using pd.concat(axis=1) instead. To get a de-fragmented frame, use `newframe = frame.copy()`\n",
      "  df[f'Day-{i}'] = df['RF_LeThuy'].shift(-i)\n",
      "C:\\Users\\Admin\\AppData\\Local\\Temp\\ipykernel_2864\\1087839190.py:5: PerformanceWarning: DataFrame is highly fragmented.  This is usually the result of calling `frame.insert` many times, which has poor performance.  Consider joining all columns at once using pd.concat(axis=1) instead. To get a de-fragmented frame, use `newframe = frame.copy()`\n",
      "  df[f'Day-{i}'] = df['RF_LeThuy'].shift(-i)\n"
     ]
    },
    {
     "name": "stdout",
     "output_type": "stream",
     "text": [
      "\tScore : r2 = 0.024023228966743693, mae = 20.426635392276502, mse = 1681.9350335245404\n",
      "Số ngày dự đoán trước đó : 108\n",
      "\tScore : r2 = -0.07439690650952424, mae = 22.95569758798361, mse = 1705.7709348846981\n",
      "Số ngày dự đoán trước đó : 109\n",
      "\tScore : r2 = -0.08023898902563675, mae = 23.256673755694216, mse = 1575.2916185319652\n",
      "Số ngày dự đoán trước đó : 110\n"
     ]
    },
    {
     "name": "stderr",
     "output_type": "stream",
     "text": [
      "C:\\Users\\Admin\\AppData\\Local\\Temp\\ipykernel_2864\\1087839190.py:5: PerformanceWarning: DataFrame is highly fragmented.  This is usually the result of calling `frame.insert` many times, which has poor performance.  Consider joining all columns at once using pd.concat(axis=1) instead. To get a de-fragmented frame, use `newframe = frame.copy()`\n",
      "  df[f'Day-{i}'] = df['RF_LeThuy'].shift(-i)\n",
      "C:\\Users\\Admin\\AppData\\Local\\Temp\\ipykernel_2864\\1087839190.py:5: PerformanceWarning: DataFrame is highly fragmented.  This is usually the result of calling `frame.insert` many times, which has poor performance.  Consider joining all columns at once using pd.concat(axis=1) instead. To get a de-fragmented frame, use `newframe = frame.copy()`\n",
      "  df[f'Day-{i}'] = df['RF_LeThuy'].shift(-i)\n",
      "C:\\Users\\Admin\\AppData\\Local\\Temp\\ipykernel_2864\\1087839190.py:5: PerformanceWarning: DataFrame is highly fragmented.  This is usually the result of calling `frame.insert` many times, which has poor performance.  Consider joining all columns at once using pd.concat(axis=1) instead. To get a de-fragmented frame, use `newframe = frame.copy()`\n",
      "  df[f'Day-{i}'] = df['RF_LeThuy'].shift(-i)\n"
     ]
    },
    {
     "name": "stdout",
     "output_type": "stream",
     "text": [
      "\tScore : r2 = -0.1002687517129508, mae = 23.74342090114616, mse = 1695.0497420435893\n",
      "Số ngày dự đoán trước đó : 111\n",
      "\tScore : r2 = -0.061230802658312156, mae = 22.695711292319295, mse = 1702.9527978199646\n",
      "Số ngày dự đoán trước đó : 112\n",
      "\tScore : r2 = -0.0716131002980247, mae = 23.03069832697173, mse = 1656.3040580287295\n",
      "Số ngày dự đoán trước đó : 113\n",
      "\tScore : r2 = -0.06393915987089227, mae = 22.4974460617744, mse = 1674.5064783385137\n",
      "Số ngày dự đoán trước đó : 114\n"
     ]
    },
    {
     "name": "stderr",
     "output_type": "stream",
     "text": [
      "C:\\Users\\Admin\\AppData\\Local\\Temp\\ipykernel_2864\\1087839190.py:5: PerformanceWarning: DataFrame is highly fragmented.  This is usually the result of calling `frame.insert` many times, which has poor performance.  Consider joining all columns at once using pd.concat(axis=1) instead. To get a de-fragmented frame, use `newframe = frame.copy()`\n",
      "  df[f'Day-{i}'] = df['RF_LeThuy'].shift(-i)\n",
      "C:\\Users\\Admin\\AppData\\Local\\Temp\\ipykernel_2864\\1087839190.py:5: PerformanceWarning: DataFrame is highly fragmented.  This is usually the result of calling `frame.insert` many times, which has poor performance.  Consider joining all columns at once using pd.concat(axis=1) instead. To get a de-fragmented frame, use `newframe = frame.copy()`\n",
      "  df[f'Day-{i}'] = df['RF_LeThuy'].shift(-i)\n",
      "C:\\Users\\Admin\\AppData\\Local\\Temp\\ipykernel_2864\\1087839190.py:5: PerformanceWarning: DataFrame is highly fragmented.  This is usually the result of calling `frame.insert` many times, which has poor performance.  Consider joining all columns at once using pd.concat(axis=1) instead. To get a de-fragmented frame, use `newframe = frame.copy()`\n",
      "  df[f'Day-{i}'] = df['RF_LeThuy'].shift(-i)\n",
      "C:\\Users\\Admin\\AppData\\Local\\Temp\\ipykernel_2864\\1087839190.py:5: PerformanceWarning: DataFrame is highly fragmented.  This is usually the result of calling `frame.insert` many times, which has poor performance.  Consider joining all columns at once using pd.concat(axis=1) instead. To get a de-fragmented frame, use `newframe = frame.copy()`\n",
      "  df[f'Day-{i}'] = df['RF_LeThuy'].shift(-i)\n"
     ]
    },
    {
     "name": "stdout",
     "output_type": "stream",
     "text": [
      "\tScore : r2 = -0.12187229166299263, mae = 24.3016495048949, mse = 1765.9561827660846\n",
      "Số ngày dự đoán trước đó : 115\n",
      "\tScore : r2 = -0.04170577516705376, mae = 22.92647419213008, mse = 1715.3772668535223\n",
      "Số ngày dự đoán trước đó : 116\n",
      "\tScore : r2 = -0.10163571402894123, mae = 24.10134740444984, mse = 1679.3203426589369\n",
      "Số ngày dự đoán trước đó : 117\n"
     ]
    },
    {
     "name": "stderr",
     "output_type": "stream",
     "text": [
      "C:\\Users\\Admin\\AppData\\Local\\Temp\\ipykernel_2864\\1087839190.py:5: PerformanceWarning: DataFrame is highly fragmented.  This is usually the result of calling `frame.insert` many times, which has poor performance.  Consider joining all columns at once using pd.concat(axis=1) instead. To get a de-fragmented frame, use `newframe = frame.copy()`\n",
      "  df[f'Day-{i}'] = df['RF_LeThuy'].shift(-i)\n",
      "C:\\Users\\Admin\\AppData\\Local\\Temp\\ipykernel_2864\\1087839190.py:5: PerformanceWarning: DataFrame is highly fragmented.  This is usually the result of calling `frame.insert` many times, which has poor performance.  Consider joining all columns at once using pd.concat(axis=1) instead. To get a de-fragmented frame, use `newframe = frame.copy()`\n",
      "  df[f'Day-{i}'] = df['RF_LeThuy'].shift(-i)\n",
      "C:\\Users\\Admin\\AppData\\Local\\Temp\\ipykernel_2864\\1087839190.py:5: PerformanceWarning: DataFrame is highly fragmented.  This is usually the result of calling `frame.insert` many times, which has poor performance.  Consider joining all columns at once using pd.concat(axis=1) instead. To get a de-fragmented frame, use `newframe = frame.copy()`\n",
      "  df[f'Day-{i}'] = df['RF_LeThuy'].shift(-i)\n"
     ]
    },
    {
     "name": "stdout",
     "output_type": "stream",
     "text": [
      "\tScore : r2 = -0.023620407813962796, mae = 21.14578281501988, mse = 1678.1855450086491\n",
      "Số ngày dự đoán trước đó : 118\n",
      "\tScore : r2 = -0.08866537902056315, mae = 23.323089108817285, mse = 1711.7438934234594\n",
      "Số ngày dự đoán trước đó : 119\n",
      "\tScore : r2 = -0.09611950912467448, mae = 23.621112260053057, mse = 1757.753561986614\n"
     ]
    },
    {
     "name": "stderr",
     "output_type": "stream",
     "text": [
      "C:\\Users\\Admin\\AppData\\Local\\Temp\\ipykernel_2864\\1087839190.py:5: PerformanceWarning: DataFrame is highly fragmented.  This is usually the result of calling `frame.insert` many times, which has poor performance.  Consider joining all columns at once using pd.concat(axis=1) instead. To get a de-fragmented frame, use `newframe = frame.copy()`\n",
      "  df[f'Day-{i}'] = df['RF_LeThuy'].shift(-i)\n",
      "C:\\Users\\Admin\\AppData\\Local\\Temp\\ipykernel_2864\\1087839190.py:5: PerformanceWarning: DataFrame is highly fragmented.  This is usually the result of calling `frame.insert` many times, which has poor performance.  Consider joining all columns at once using pd.concat(axis=1) instead. To get a de-fragmented frame, use `newframe = frame.copy()`\n",
      "  df[f'Day-{i}'] = df['RF_LeThuy'].shift(-i)\n"
     ]
    }
   ],
   "source": [
    "for i in range(2, 120):\n",
    "  print(f'Số ngày dự đoán trước đó : {i}')\n",
    "  score(dt2, i)\n"
   ]
  }
 ],
 "metadata": {
  "kernelspec": {
   "display_name": "MachineLearning",
   "language": "python",
   "name": "python3"
  },
  "language_info": {
   "codemirror_mode": {
    "name": "ipython",
    "version": 3
   },
   "file_extension": ".py",
   "mimetype": "text/x-python",
   "name": "python",
   "nbconvert_exporter": "python",
   "pygments_lexer": "ipython3",
   "version": "3.11.5"
  }
 },
 "nbformat": 4,
 "nbformat_minor": 2
}
